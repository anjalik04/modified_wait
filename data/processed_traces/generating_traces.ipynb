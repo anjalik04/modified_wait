{
 "cells": [
  {
   "cell_type": "code",
   "execution_count": 1,
   "id": "6c89ace5",
   "metadata": {},
   "outputs": [],
   "source": [
    "import numpy as np\n",
    "import pandas as pd"
   ]
  },
  {
   "cell_type": "code",
   "execution_count": 2,
   "id": "20307f1d",
   "metadata": {},
   "outputs": [],
   "source": [
    "def generate_2mmpp_trace(T_max, lambda0, lambda1, q01, q10, seed=None):\n",
    "    \"\"\"\n",
    "    Generate a 2-state MMPP traffic trace.\n",
    "\n",
    "    Parameters:\n",
    "    - T_max (float): total simulation time (in seconds)\n",
    "    - lambda0 (float): Poisson rate in state 0\n",
    "    - lambda1 (float): Poisson rate in state 1\n",
    "    - q01 (float): transition rate from state 0 to state 1\n",
    "    - q10 (float): transition rate from state 1 to state 0\n",
    "    - seed (int or None): random seed\n",
    "\n",
    "    Returns:\n",
    "    - arrivals (list of float): timestamps of Poisson arrivals\n",
    "    - state_times (list of tuples): (start_time, end_time, state, rate) for each state period\n",
    "    \"\"\"\n",
    "    if seed is not None:\n",
    "        np.random.seed(seed)\n",
    "\n",
    "    arrivals = []\n",
    "    state_times = []\n",
    "    current_time = 0.0\n",
    "    state = np.random.choice([0, 1])  # randomly start in state 0 or 1\n",
    "\n",
    "    while current_time < T_max:\n",
    "        # Determine time until next state change\n",
    "        if state == 0:\n",
    "            holding_time = np.random.exponential(1.0 / q01)\n",
    "            rate = lambda0\n",
    "        else:\n",
    "            holding_time = np.random.exponential(1.0 / q10)\n",
    "            rate = lambda1\n",
    "\n",
    "        end_time = min(current_time + holding_time, T_max)\n",
    "\n",
    "        # Generate Poisson arrivals in this state\n",
    "        duration = end_time - current_time\n",
    "        num_arrivals = np.random.poisson(rate * duration)\n",
    "        arrivals_in_state = np.sort(np.random.uniform(current_time, end_time, num_arrivals))\n",
    "        arrivals.extend(arrivals_in_state)\n",
    "        state_times.append((current_time, end_time, state, rate))\n",
    "\n",
    "        # Update time and switch state\n",
    "        current_time = end_time\n",
    "        state = 1 - state  # switch state\n",
    "\n",
    "    return np.array(arrivals), state_times\n",
    "\n",
    "def find_arrival_rates_from_data(arrivals, state_segments):\n",
    "    arrival_rates_from_data = []\n",
    "    curr_idx = 0\n",
    "    for a in arrivals:\n",
    "        low= state_segments[curr_idx][0]\n",
    "        high = state_segments[curr_idx][1]\n",
    "        rate= state_segments[curr_idx][3]\n",
    "        if(low<=a<high):\n",
    "            arrival_rates_from_data.append(rate)\n",
    "        else:\n",
    "            curr_idx+=1\n",
    "            rate = state_segments[curr_idx][3]\n",
    "            arrival_rates_from_data.append(rate)\n",
    "    return arrival_rates_from_data\n",
    "\n",
    "def trace(info_dict):\n",
    "    types = len(info_dict)\n",
    "    total_df = pd.DataFrame()\n",
    "\n",
    "    for i in range(types):\n",
    "        T_max = info_dict[i]['T_max']\n",
    "        lambda0 = info_dict[i]['lambda0']\n",
    "        lambda1 = info_dict[i]['lambda1']\n",
    "        q01 = info_dict[i]['q01']\n",
    "        q10 = info_dict[i]['q10']\n",
    "        num_prefill_tokens = info_dict[i]['num_prefill_tokens']\n",
    "        num_decode_tokens = info_dict[i]['num_decode_tokens']\n",
    "        arrivals, state_segments = generate_2mmpp_trace(T_max, lambda0, lambda1, q01, q10, seed=None)\n",
    "        arrival_rates = find_arrival_rates_from_data(arrivals=arrivals, state_segments=state_segments)\n",
    "\n",
    "        csv_arrivals= pd.DataFrame(arrivals)\n",
    "        csv_arrivals['num_prefill_tokens'] = num_prefill_tokens\n",
    "        csv_arrivals['num_decode_tokens'] = num_decode_tokens\n",
    "        csv_arrivals['prompt_type'] = f'type{i+1}'\n",
    "        csv_arrivals['arrival_rate_update'] = arrival_rates\n",
    "        csv_arrivals = csv_arrivals.rename(columns={0: 'arrived_at'})\n",
    "\n",
    "        total_df = pd.concat([total_df, csv_arrivals])\n",
    "\n",
    "    total_df = total_df.sort_values(by='arrived_at')\n",
    "    return total_df"
   ]
  },
  {
   "cell_type": "code",
   "execution_count": 3,
   "id": "c150f819",
   "metadata": {},
   "outputs": [],
   "source": [
    "info_dict_input = [\n",
    "    {'T_max': 10, 'lambda0': 1000, 'lambda1': 500, 'q01': 0.5, 'q10': 0.3, 'num_prefill_tokens': 10, 'num_decode_tokens': 10},\n",
    "    {'T_max': 10, 'lambda0': 1000, 'lambda1': 200, 'q01': 0.5, 'q10': 0.3, 'num_prefill_tokens': 10, 'num_decode_tokens': 20},\n",
    "]\n",
    "\n",
    "trace_mmpp2= trace(info_dict=info_dict_input)"
   ]
  },
  {
   "cell_type": "code",
   "execution_count": 4,
   "id": "a71f7265",
   "metadata": {},
   "outputs": [],
   "source": [
    "info_dict_input = [\n",
    "    {'T_max': 9, 'lambda0': 5000, 'lambda1': 4000, 'q01': 0.5, 'q10': 0.3, 'num_prefill_tokens': 20, 'num_decode_tokens': 100},\n",
    "    {'T_max': 9, 'lambda0': 4000, 'lambda1': 3000, 'q01': 0.5, 'q10': 0.3, 'num_prefill_tokens': 20, 'num_decode_tokens': 200},\n",
    "    {'T_max': 9, 'lambda0': 2000, 'lambda1': 1000, 'q01': 0.5, 'q10': 0.3, 'num_prefill_tokens': 20, 'num_decode_tokens': 300},\n",
    "]\n",
    "\n",
    "trace_mmpp2= trace(info_dict=info_dict_input)"
   ]
  },
  {
   "cell_type": "code",
   "execution_count": 24,
   "id": "2a6bb406",
   "metadata": {},
   "outputs": [],
   "source": [
    "info_dict_input = [\n",
    "    {'T_max': 10, 'lambda0': 1000, 'lambda1': 500, 'q01': 1.0, 'q10': 0.8, 'num_prefill_tokens': 10, 'num_decode_tokens': 10},\n",
    "    {'T_max': 10, 'lambda0': 1000, 'lambda1': 200, 'q01': 1.0, 'q10': 0.8, 'num_prefill_tokens': 10, 'num_decode_tokens': 20},\n",
    "]\n",
    "\n",
    "trace_mmpp2= trace(info_dict=info_dict_input)"
   ]
  },
  {
   "cell_type": "code",
   "execution_count": 6,
   "id": "a454f46d",
   "metadata": {},
   "outputs": [],
   "source": [
    "info_dict_input = [\n",
    "    {'T_max': 1.5, 'lambda0': 5000, 'lambda1': 4000, 'q01': 1.5, 'q10': 1.3, 'num_prefill_tokens': 20, 'num_decode_tokens': 100},\n",
    "    {'T_max': 1.5, 'lambda0': 4000, 'lambda1': 3000, 'q01': 1.5, 'q10': 1.3, 'num_prefill_tokens': 20, 'num_decode_tokens': 200},\n",
    "    {'T_max': 1.5, 'lambda0': 2000, 'lambda1': 1000, 'q01': 1.5, 'q10': 1.3, 'num_prefill_tokens': 20, 'num_decode_tokens': 300},\n",
    "]\n",
    "\n",
    "trace_mmpp2= trace(info_dict=info_dict_input)"
   ]
  },
  {
   "cell_type": "code",
   "execution_count": 7,
   "id": "ef081c94",
   "metadata": {},
   "outputs": [],
   "source": [
    "trace_mmpp2.to_csv('high_demand_high_shift_wait.csv')"
   ]
  },
  {
   "cell_type": "code",
   "execution_count": 8,
   "id": "e0a6a810",
   "metadata": {},
   "outputs": [
    {
     "name": "stdout",
     "output_type": "stream",
     "text": [
      "4877.736472532011\n",
      "3381.254964257347\n",
      "1176.1876127480457\n"
     ]
    }
   ],
   "source": [
    "for i in range(len(info_dict_input)):\n",
    "    print(np.mean(trace_mmpp2[trace_mmpp2['prompt_type'] == f'type{i+1}']['arrival_rate_update']))"
   ]
  },
  {
   "cell_type": "code",
   "execution_count": 9,
   "id": "e028513a",
   "metadata": {},
   "outputs": [
    {
     "name": "stdout",
     "output_type": "stream",
     "text": [
      "      arrived_at  num_prefill_tokens  num_decode_tokens prompt_type  \\\n",
      "0       0.000025                  20                100       type1   \n",
      "1       0.000065                  20                100       type1   \n",
      "2       0.000227                  20                100       type1   \n",
      "0       0.000533                  20                200       type2   \n",
      "3       0.000625                  20                100       type1   \n",
      "...          ...                 ...                ...         ...   \n",
      "5033    1.499475                  20                200       type2   \n",
      "5034    1.499492                  20                200       type2   \n",
      "7261    1.499654                  20                100       type1   \n",
      "5035    1.499894                  20                200       type2   \n",
      "7262    1.499982                  20                100       type1   \n",
      "\n",
      "      arrival_rate_update  \n",
      "0                    5000  \n",
      "1                    5000  \n",
      "2                    5000  \n",
      "0                    4000  \n",
      "3                    5000  \n",
      "...                   ...  \n",
      "5033                 4000  \n",
      "5034                 4000  \n",
      "7261                 4000  \n",
      "5035                 4000  \n",
      "7262                 4000  \n",
      "\n",
      "[13962 rows x 5 columns]\n"
     ]
    }
   ],
   "source": [
    "print(trace_mmpp2)"
   ]
  },
  {
   "cell_type": "code",
   "execution_count": 68,
   "id": "7d424417",
   "metadata": {},
   "outputs": [],
   "source": [
    "info_dict_input = [\n",
    "    {'T_max': 10, 'lambda0': 1000, 'lambda1': 100, 'q01': 5, 'q10': 5, 'num_prefill_tokens': 100, 'num_decode_tokens': 25},\n",
    "    {'T_max': 10, 'lambda0': 900, 'lambda1': 90, 'q01': 5, 'q10': 5, 'num_prefill_tokens': 100, 'num_decode_tokens': 50},\n",
    "    {'T_max': 10, 'lambda0': 800, 'lambda1': 80, 'q01': 5, 'q10': 5, 'num_prefill_tokens': 100, 'num_decode_tokens': 100},\n",
    "    {'T_max': 10, 'lambda0': 700, 'lambda1': 70, 'q01': 5, 'q10': 5, 'num_prefill_tokens': 100, 'num_decode_tokens': 200},\n",
    "    {'T_max': 10, 'lambda0': 600, 'lambda1': 60, 'q01': 5, 'q10': 5, 'num_prefill_tokens': 100, 'num_decode_tokens': 400},\n",
    "    {'T_max': 10, 'lambda0': 500, 'lambda1': 50, 'q01': 5, 'q10': 5, 'num_prefill_tokens': 100, 'num_decode_tokens': 500},\n",
    "    {'T_max': 10, 'lambda0': 400, 'lambda1': 40, 'q01': 5, 'q10': 5, 'num_prefill_tokens': 100, 'num_decode_tokens': 600},\n",
    "    {'T_max': 10, 'lambda0': 300, 'lambda1': 30, 'q01': 5, 'q10': 5, 'num_prefill_tokens': 100, 'num_decode_tokens': 700},\n",
    "    {'T_max': 10, 'lambda0': 200, 'lambda1': 20, 'q01': 5, 'q10': 5, 'num_prefill_tokens': 100, 'num_decode_tokens': 800},\n",
    "    {'T_max': 10, 'lambda0': 100, 'lambda1': 10, 'q01': 5, 'q10': 5, 'num_prefill_tokens': 100, 'num_decode_tokens': 900},\n",
    "]\n",
    "\n",
    "trace_mmpp2= trace(info_dict=info_dict_input)"
   ]
  },
  {
   "cell_type": "code",
   "execution_count": 69,
   "id": "03ed02e5",
   "metadata": {},
   "outputs": [],
   "source": [
    "trace_mmpp2.to_csv('high_rate_ten_type_mmpp2.csv')"
   ]
  },
  {
   "cell_type": "code",
   "execution_count": 70,
   "id": "a71a15f9",
   "metadata": {},
   "outputs": [
    {
     "name": "stdout",
     "output_type": "stream",
     "text": [
      "   arrived_at  num_prefill_tokens  num_decode_tokens prompt_type  \\\n",
      "0    0.000164                 100                600       type7   \n",
      "0    0.000241                 100                 50       type2   \n",
      "1    0.000305                 100                 50       type2   \n",
      "0    0.000390                 100                 25       type1   \n",
      "0    0.000788                 100                500       type6   \n",
      "\n",
      "   arrival_rate_update  \n",
      "0                  400  \n",
      "0                  900  \n",
      "1                  900  \n",
      "0                 1000  \n",
      "0                  500  \n"
     ]
    }
   ],
   "source": [
    "print(trace_mmpp2.head())"
   ]
  },
  {
   "cell_type": "code",
   "execution_count": 71,
   "id": "5c216258",
   "metadata": {},
   "outputs": [
    {
     "name": "stdout",
     "output_type": "stream",
     "text": [
      "901.2411347517731\n",
      "823.0772366007744\n",
      "758.9317054559328\n",
      "647.843137254902\n",
      "546.1538461538462\n",
      "464.6900752418488\n",
      "382.93838862559244\n",
      "263.5459940652819\n",
      "180.74342701722574\n",
      "91.08571428571429\n"
     ]
    }
   ],
   "source": [
    "for i in range(len(info_dict_input)):\n",
    "    print(np.mean(trace_mmpp2[trace_mmpp2['prompt_type'] == f'type{i+1}']['arrival_rate_update']))"
   ]
  },
  {
   "cell_type": "code",
   "execution_count": null,
   "id": "f530bf67",
   "metadata": {},
   "outputs": [],
   "source": []
  }
 ],
 "metadata": {
  "kernelspec": {
   "display_name": "base",
   "language": "python",
   "name": "python3"
  },
  "language_info": {
   "codemirror_mode": {
    "name": "ipython",
    "version": 3
   },
   "file_extension": ".py",
   "mimetype": "text/x-python",
   "name": "python",
   "nbconvert_exporter": "python",
   "pygments_lexer": "ipython3",
   "version": "3.12.10"
  }
 },
 "nbformat": 4,
 "nbformat_minor": 5
}
