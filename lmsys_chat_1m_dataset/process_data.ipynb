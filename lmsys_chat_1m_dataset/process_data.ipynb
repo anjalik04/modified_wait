{
 "cells": [
  {
   "cell_type": "code",
   "execution_count": null,
   "metadata": {},
   "outputs": [],
   "source": [
    "from datasets import load_dataset\n",
    "\n",
    "# 指定下载路径\n",
    "download_path = \"/Users/luogan/Desktop/vidur_or/lmsys_chat_1m_dataset\"\n",
    "\n",
    "# 加载数据\n",
    "dataset = load_dataset(\"lmsys/lmsys-chat-1m\", cache_dir=download_path)"
   ]
  },
  {
   "cell_type": "code",
   "execution_count": 2,
   "metadata": {},
   "outputs": [],
   "source": [
    "from datasets import DatasetDict\n",
    "import pandas as pd\n",
    "\n",
    "def count_words(conversation):\n",
    "    \"\"\"\n",
    "    计算用户提问和模型回答的字数。\n",
    "    \"\"\"\n",
    "    if isinstance(conversation, str):  # 可能是字符串格式的 JSON\n",
    "        import json\n",
    "        conversation = json.loads(conversation)\n",
    "\n",
    "    user_text = \"\"\n",
    "    assistant_text = \"\"\n",
    "\n",
    "    for turn in conversation:\n",
    "        if turn[\"role\"] == \"user\":\n",
    "            user_text += turn[\"content\"] + \" \"  # 累加用户提问\n",
    "        elif turn[\"role\"] == \"assistant\":\n",
    "            assistant_text += turn[\"content\"] + \" \"  # 累加模型回答\n",
    "\n",
    "    return len(user_text.split()), len(assistant_text.split())  # 计算单词数\n",
    "\n",
    "# 处理整个数据集\n",
    "def process_dataset(dataset):\n",
    "    \"\"\"\n",
    "    遍历整个数据集，为每条对话计算提问和回答的单词数。\n",
    "    \"\"\"\n",
    "    question_lengths = []\n",
    "    answer_lengths = []\n",
    "\n",
    "    for row in dataset:\n",
    "        q_len, a_len = count_words(row[\"conversation\"])\n",
    "        question_lengths.append(q_len)\n",
    "        answer_lengths.append(a_len)\n",
    "\n",
    "    return pd.DataFrame({\"question_length\": question_lengths, \"answer_length\": answer_lengths})"
   ]
  },
  {
   "cell_type": "code",
   "execution_count": 3,
   "metadata": {},
   "outputs": [
    {
     "name": "stdout",
     "output_type": "stream",
     "text": [
      "1000000\n"
     ]
    }
   ],
   "source": [
    "train_dataset = dataset[\"train\"]\n",
    "print(len(train_dataset))"
   ]
  },
  {
   "cell_type": "code",
   "execution_count": 8,
   "metadata": {},
   "outputs": [],
   "source": [
    "df = process_dataset(train_dataset)\n",
    "df.to_csv(\"/Users/luogan/Desktop/vidur_or/lmsys_chat_1m_dataset/output_trace/lmsys_chat_1m_dataset.csv\", index=False)  # 保存到 CSV 文件"
   ]
  }
 ],
 "metadata": {
  "kernelspec": {
   "display_name": "base",
   "language": "python",
   "name": "python3"
  },
  "language_info": {
   "codemirror_mode": {
    "name": "ipython",
    "version": 3
   },
   "file_extension": ".py",
   "mimetype": "text/x-python",
   "name": "python",
   "nbconvert_exporter": "python",
   "pygments_lexer": "ipython3",
   "version": "3.12.7"
  }
 },
 "nbformat": 4,
 "nbformat_minor": 2
}
